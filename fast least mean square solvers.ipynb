{
 "cells": [
  {
   "cell_type": "code",
   "execution_count": 316,
   "metadata": {},
   "outputs": [],
   "source": [
    "import math\n",
    "import numpy as np\n",
    "from sklearn.model_selection import KFold\n",
    "import paper_code\n",
    "# ALGORITHM 1\n",
    "def Caratheodory(P,u):\n",
    "    '''\n",
    "        Input \n",
    "            P = points\n",
    "            u = weight function\n",
    "        Output:\n",
    "            caratheodory set: (S,w) for (P,u)        \n",
    "    '''\n",
    "    # print('inside slow cara function')\n",
    "    while True:\n",
    "        # print(f'shapes of P {P.shape} and u {u.shape}')\n",
    "        n = np.count_nonzero(u) \n",
    "        d = P.shape[1]\n",
    "        if( n<=d+1):\n",
    "            # print('Number of rows smaller than columns, do not need fast function',n,d)\n",
    "            return u\n",
    "\n",
    "        # select idx where u is nonzero\n",
    "        u_non_zero = np.nonzero(u)\n",
    "        A = P[u_non_zero] \n",
    "        \n",
    "        # p1 = A[0] # although p0 -- but trying to be consistent the paper notation\n",
    "        # A = A[1:] - p1\n",
    "        \n",
    "        reduced_vec = np.outer(A[0], np.ones(A.shape[0]-1, dtype = u.dtype))\n",
    "        A = A[1:].T - reduced_vec\n",
    "        \n",
    "\n",
    "        # A'v  = 0 \n",
    "        # ----------TODO -- CALCULATE V ---------------\n",
    "        # compute V using SVD -- solve linear equations \n",
    "        # this is the most time consuming step of the entire thing\n",
    "        # shape of V = {v2,v3,v4...vn} n-1\n",
    "\n",
    "        _, _, V = np.linalg.svd(A, full_matrices=True)\n",
    "        \n",
    "        v  = V[-1] \n",
    "        \n",
    "        v1 = v.sum() * -1\n",
    "        v  = np.insert(v,0,v1,axis=0) # adding v1 back in position 0\n",
    "\n",
    "        #         generates min alpha value where vi != 0\n",
    "        #         alpha_min = math.inf\n",
    "        #         for i in range(0,n):\n",
    "        #             vi = v[i]\n",
    "        #             ui = u[i]\n",
    "        #             if(vi!= 0):\n",
    "        #                 uivi = ui / vi\n",
    "        #                 if(alpha_min>uivi):\n",
    "        #                     alpha_min = uivi\n",
    "\n",
    "        idx_good_alpha = np.nonzero(v > 0)\n",
    "        \n",
    "        alpha_min = np.min(u[u_non_zero][idx_good_alpha]/v[idx_good_alpha])\n",
    "        # print('shape of u and v:',u[u_non_zero].shape,v.shape)\n",
    "        w = np.zeros(u.shape[0] , dtype = u.dtype)\n",
    "        tmp_w = u[u_non_zero] - alpha_min * v\n",
    "        tmp_w[np.argmin(tmp_w)] = 0.0\n",
    "        w[u_non_zero] = tmp_w\n",
    "        w[u_non_zero][np.argmin(w[u_non_zero] )] = 0\n",
    "        # print('cara func num of nonzero:', np.count_nonzero(w), w.shape[0])\n",
    "        # print(w)\n",
    "        u = w        "
   ]
  },
  {
   "cell_type": "code",
   "execution_count": 266,
   "metadata": {},
   "outputs": [
    {
     "name": "stdout",
     "output_type": "stream",
     "text": [
      "4\n",
      "4\n"
     ]
    }
   ],
   "source": [
    "P = np.random.randn(40,3)\n",
    "u = np.ones(40)\n",
    "u1 = Caratheodory(P,u)\n",
    "u2 = paper_code.Caratheodory(P,u)\n",
    "print(np.count_nonzero(u1))\n",
    "print(np.count_nonzero(u2))"
   ]
  },
  {
   "cell_type": "code",
   "execution_count": 267,
   "metadata": {},
   "outputs": [
    {
     "data": {
      "text/plain": [
       "array([0., 0., 0., 0., 0., 0., 0., 0., 0., 0., 0., 0., 0., 0., 0., 0., 0.,\n",
       "       0., 0., 0., 0., 0., 0., 0., 0., 0., 0., 0., 0., 0., 0., 0., 0., 0.,\n",
       "       0., 0., 0., 0., 0., 0.])"
      ]
     },
     "execution_count": 267,
     "metadata": {},
     "output_type": "execute_result"
    }
   ],
   "source": [
    "u2 - u1"
   ]
  },
  {
   "cell_type": "code",
   "execution_count": 332,
   "metadata": {},
   "outputs": [],
   "source": [
    "def fast_Caratheodory_set(P,u,k):\n",
    "    '''\n",
    "    Input P = data points (n,d)\n",
    "          u = weight function -- u(p)  \n",
    "          k = accuracy vs speed factor\n",
    "    Output \n",
    "          Returns a Carath set (P,u)\n",
    "    '''\n",
    "    iterr = 10\n",
    "    while True:\n",
    "        iterr -= 1\n",
    "        # print('fast cath : shape of P',P.shape)\n",
    "        n = np.count_nonzero(u)\n",
    "        d = P.shape[1]\n",
    "        u_nonzero = np.nonzero(u)\n",
    "        # print(f'nonzero {n},d {d}, k{k}')\n",
    "        # return if not enough rows:\n",
    "        if(n<d+1 or n<k):\n",
    "            # print('returning u',u)\n",
    "            return u\n",
    "\n",
    "        # step 4\n",
    "        # partition into k clusters with atmost math.ceil(n/k) points\n",
    "        p_clusters = [] # saves µk cluster indexes\n",
    "        kf = KFold(n_splits=k)\n",
    "        nz = np.array(u_nonzero).reshape(-1,1)    \n",
    "        i = 0\n",
    "        for _,idxs in kf.split(nz):\n",
    "            p_clusters.append(idxs)\n",
    "            i += 1    \n",
    "        \n",
    "        # step 5 -- get weight of the ith clusters\n",
    "        mu = np.zeros((k,d),dtype=u.dtype) # weighted mean of Pi        \n",
    "        u_dash = np.zeros(k, dtype = u.dtype) # weight of the ith cluster     \n",
    "        \n",
    "        for i,idxes in enumerate(p_clusters):\n",
    "            denom = 0\n",
    "            numer = 0\n",
    "            for p_idx in idxs: # p is a d dimensional vector\n",
    "                u_p = u[p_idx]\n",
    "                p = P[p_idx]\n",
    "                denom += u_p\n",
    "                numer += u_p * p # --- TODO SHOULD BE NUMPY MULTIPLY\n",
    "                \n",
    "            mu[i] = numer / denom\n",
    "            u_dash[i] = denom\n",
    "        \n",
    "        # step 8 --  return a smaller selected subset of mu\n",
    "        w_dash = Caratheodory(mu,u_dash) # gives weight function with some zero values\n",
    "        w_dash2 = paper_code.Caratheodory(mu,u_dash)\n",
    "        #print('w dash shape should be k,1:',w_dash.shape, np.count_nonzero(w_dash))\n",
    "        # step 9\n",
    "        # for cluster in w_dash == 0, make u==0, so that Pi is removed\n",
    "        w = np.zeros(u.shape[0],dtype=u.dtype)\n",
    "        for w_idx in range(w_dash.shape[0]):\n",
    "            if(w_dash[w_idx]!=0):                                \n",
    "                for pi_idx in p_clusters[w_idx]:\n",
    "                    w[pi_idx] = (w_dash[w_idx] * u[pi_idx]) / u_dash[w_idx]\n",
    "                \n",
    "        # print(f'fast_cara #non zero in u {np.count_nonzero(u)} and w {np.count_nonzero(w)}')\n",
    "        # step 12 - recursively call fast cath\n",
    "        u = w\n",
    "        # print()"
   ]
  },
  {
   "cell_type": "code",
   "execution_count": 307,
   "metadata": {},
   "outputs": [
    {
     "name": "stdout",
     "output_type": "stream",
     "text": [
      "Number of rows smaller than columns, do not need fast function 11 10\n",
      "Number of rows smaller than columns, do not need fast function 11 10\n",
      "non zero in u1: 13\n"
     ]
    }
   ],
   "source": [
    "P = np.random.randn(40,10)\n",
    "u = np.ones(40)\n",
    "u1 = fast_Caratheodory_set(P,u,20)\n",
    "print('non zero in u1:',np.count_nonzero(u1))\n",
    "\n",
    "# u2 = paper_code.Fast_Caratheodory(P,u,7)\n",
    "# print('non_zero in u2:',np.count_nonzero(u2))"
   ]
  },
  {
   "cell_type": "code",
   "execution_count": null,
   "metadata": {},
   "outputs": [],
   "source": [
    "print(u1)\n",
    "print()\n",
    "print(u2)"
   ]
  },
  {
   "cell_type": "code",
   "execution_count": 333,
   "metadata": {},
   "outputs": [],
   "source": [
    "# algorithm 2 \n",
    "def Caratheodory_matrix(A,k):\n",
    "    '''\n",
    "    Input A: (n,d) A = (a1 | a2 | ... | an )^T  = n,d\n",
    "          input data is column vector in the matrix\n",
    "          k = numerical accuracy speed tradeoff          \n",
    "    Output \n",
    "          S = (d*2 + 1,d) \n",
    "          with A^T *A = S^T *S\n",
    "    '''\n",
    "    #print('cath matrix shape of A:',A.shape)\n",
    "    n,d = A.shape\n",
    "    P = np.empty((n,d*d))\n",
    "    u = np.zeros(n)\n",
    "    \n",
    "    # step 1\n",
    "    for i in range(n):        \n",
    "        ai = A[i].reshape(d,1)        \n",
    "        # step 2\n",
    "        pi   = np.multiply(ai,ai.transpose())\n",
    "        P[i] = pi.flatten() # (d,d) set pi inside a data structure -- \n",
    "        u[i] = 1 / n\n",
    "        \n",
    "    #print('matrix: done with calculating ai*ai_transpose')    \n",
    "    #print('matrix: shape of p and u',P.shape,u.shape)\n",
    "    \n",
    "    w = fast_Caratheodory_set(P,u,k)\n",
    "    w_nonzero = np.nonzero(w)[0]   \n",
    "#     print('____________________________')\n",
    "#     print('shape of w returned:',w.shape)\n",
    "#     print(' number of non zero items: ',np.count_nonzero(w))\n",
    "#     print(w_nonzero)\n",
    "    \n",
    "    # step 6\n",
    "    S = np.zeros((np.count_nonzero(w),d))\n",
    "    #print(S.shape)\n",
    "    i = 0\n",
    "    for ai_idx in w_nonzero:\n",
    "        w1 = w[ai_idx]\n",
    "        a1 =  A[ai_idx].transpose()\n",
    "        \n",
    "        S[i] = np.sqrt(n*w1) *a1\n",
    "        i += 1\n",
    "    return S        "
   ]
  },
  {
   "cell_type": "code",
   "execution_count": 309,
   "metadata": {},
   "outputs": [
    {
     "name": "stdout",
     "output_type": "stream",
     "text": [
      "Number of rows smaller than columns, do not need fast function 5 4\n",
      "Number of rows smaller than columns, do not need fast function 5 4\n",
      "Number of rows smaller than columns, do not need fast function 5 4\n",
      "Number of rows smaller than columns, do not need fast function 5 4\n",
      "Number of rows smaller than columns, do not need fast function 5 4\n",
      "Number of rows smaller than columns, do not need fast function 5 4\n",
      "Number of rows smaller than columns, do not need fast function 5 4\n",
      "____________________________\n",
      "shape of w returned: (40,)\n",
      " number of non zero items:  6\n",
      "(6, 2)\n"
     ]
    }
   ],
   "source": [
    "A = np.random.randn(40,2)\n",
    "S = Caratheodory_matrix(A,7)\n",
    "print(S.shape)"
   ]
  },
  {
   "cell_type": "code",
   "execution_count": 376,
   "metadata": {},
   "outputs": [],
   "source": [
    "def fast_lms(A,b,m,k):\n",
    "    '''\n",
    "    Input  A = (n,d) matrix \n",
    "           b = (n) vector -- > Ax - b = 0\n",
    "           m = number of cross validation folds\n",
    "           k = accuracy vs speed tradeoff \"in\" {1,2...,n}\n",
    "    Output \n",
    "           C = (md*2,d) -- matrix whose rows are scaled rows from A\n",
    "           y = (d,) - vector\n",
    "           \n",
    "           C,y act as a replacement for A,b and have much smaller number of rows\n",
    "           hence the training time thereon shold be much\n",
    "           faster.\n",
    "    '''\n",
    "    # print('fast lms: shape of A:',A.shape,b.shape)\n",
    "    n,d = A.shape\n",
    "    \n",
    "    # step 1 -- add b to A\n",
    "    A_dash = np.concatenate((A,b),axis=1)\n",
    "    #print('shape of A_dash:', A_dash.shape) # should be n,d+1\n",
    "    kf = KFold(n_splits=m)\n",
    "    S = []\n",
    "    \n",
    "    #step 3,4\n",
    "    for _,idx in kf.split(A_dash):\n",
    "        Ai = A_dash[idx]\n",
    "        Si = Caratheodory_matrix(Ai,k)\n",
    "        #print('shape of Si after caratheory matrix',Ai.shape,Si.shape)\n",
    "        S.append(Si)\n",
    "        \n",
    "    # step 5 concatenate all Si's\n",
    "    S = np.concatenate(S,axis=0)\n",
    "    # print()\n",
    "    print('fast_lms: shape of S:',S.shape) # should be m(d+1)^2,d+1\n",
    "    # print(m*(d+1)**2 +m)\n",
    "#     print(S.shape[1],d)\n",
    "    # step 6\n",
    "    C = S[:,0:d]\n",
    "    y = S[:,-1]\n",
    "    return C,y"
   ]
  },
  {
   "cell_type": "code",
   "execution_count": 372,
   "metadata": {},
   "outputs": [
    {
     "name": "stdout",
     "output_type": "stream",
     "text": [
      "fast_lms: shape of S: (76, 4)\n",
      "4 3\n",
      "20 (76, 3) (76,)\n"
     ]
    }
   ],
   "source": [
    "n,d = 2000,3\n",
    "m = 4\n",
    "k = 20\n",
    "A = np.random.uniform(low=0,high=1000,size=(n,d))\n",
    "b = np.random.uniform(low=0,high=1000,size=(n,1))\n",
    "C,y = fast_lms(A,b,m,k)\n",
    "print(k,C.shape,y.shape)\n",
    "\n",
    "# y_shape_list = []\n",
    "# x = [20,40,50,75,100,125,200,300,400,500,505,507,510,600,700,800,900,1200,1500,1600,1800,1900]\n",
    "# for k in x:    \n",
    "#     C,y = fast_lms(A,b,m,k)\n",
    "#     print(k,y.shape[0])\n",
    "#     y_shape_list.append(y.shape[0])    "
   ]
  },
  {
   "cell_type": "code",
   "execution_count": 359,
   "metadata": {},
   "outputs": [
    {
     "data": {
      "image/png": "[encoded data removed]",
      "text/plain": [
       "<Figure size 432x288 with 1 Axes>"
      ]
     },
     "metadata": {
      "needs_background": "light"
     },
     "output_type": "display_data"
    }
   ],
   "source": [
    "import matplotlib.pyplot as plt\n",
    "plt.plot(x,y_shape_list)\n",
    "plt.ylabel('size of remaning C matrix')\n",
    "plt.show()"
   ]
  },
  {
   "cell_type": "code",
   "execution_count": 363,
   "metadata": {},
   "outputs": [
    {
     "name": "stdout",
     "output_type": "stream",
     "text": [
      "100 (340, 4) (340,)\n",
      "0.0006241927297582217 1.0\n"
     ]
    }
   ],
   "source": [
    "from sklearn.model_selection import train_test_split\n",
    "from sklearn.linear_model import LinearRegression\n",
    "\n",
    "n,d = 50000,3\n",
    "m,k = 4,500\n",
    "\n",
    "A = np.random.uniform(low=0,high=1000,size=(n,d))\n",
    "b = np.random.uniform(low=0,high=1000,size=(n,1))\n",
    "C,y = fast_lms(A,b,m,k)\n",
    "print(k,C.shape,y.shape)\n",
    "\n",
    "X_train, X_test, y_train, y_test = train_test_split(A,b,test_size=0.2)\n",
    "reg = LinearRegression().fit(X_train, y_train)\n",
    "score_simple = reg.score(X_test,y_test)\n",
    "\n",
    "X_train, X_test, y_train, y_test = train_test_split(C,y,test_size=0.2)\n",
    "reg = LinearRegression().fit(X_train, y_train)\n",
    "score_fast = reg.score(X_test,y_test)\n",
    "\n",
    "print(score_simple,score_fast)"
   ]
  },
  {
   "cell_type": "code",
   "execution_count": 402,
   "metadata": {},
   "outputs": [],
   "source": [
    "# from sklearn.model_selection import train_test_split\n",
    "# from sklearn.linear_model import LinearRegression\n",
    "\n",
    "# n,d = 50000,3\n",
    "# m,k = 4,100\n",
    "\n",
    "# X = np.random.uniform(low=0,high=1000,size=(n,d))\n",
    "# y = np.random.uniform(low=0,high=1000,size=(n,1))\n",
    "\n",
    "# A, X_test, b, y_test = train_test_split(X,y,test_size=0.2)\n",
    "\n",
    "# reg = LinearRegression().fit(A,b)\n",
    "# score_simple = reg.score(X_test,y_test)\n",
    "# print('naive score,',score_simple)\n",
    "# score_list = []\n",
    "# for k in [125,150,200,250,300,400,500,800,1000,1200,1500]:\n",
    "#     C,w = fast_lms(A,b,m,k)    \n",
    "#     reg = LinearRegression().fit(C, w)\n",
    "#     score_fast = reg.score(X_test,y_test)\n",
    "# #     print(C.shape,w.shape)\n",
    "#     print(k,score_fast)\n",
    "    \n",
    "# #print(score_simple,score_fast)"
   ]
  },
  {
   "cell_type": "code",
   "execution_count": 403,
   "metadata": {},
   "outputs": [
    {
     "name": "stdout",
     "output_type": "stream",
     "text": [
      "(442, 10) (442,)\n",
      "naive score, 0.50612339190702\n",
      "mean square error: 3388.5362283991503\n",
      "(353, 10) (353,)\n",
      "\n",
      "fast_lms: shape of S: (353, 11)\n",
      "(353, 10) (353,)\n",
      "15 0.50612339190702\n",
      "fast_lms: shape of S: (353, 11)\n",
      "(353, 10) (353,)\n",
      "30 0.50612339190702\n",
      "fast_lms: shape of S: (353, 11)\n",
      "(353, 10) (353,)\n",
      "40 0.50612339190702\n",
      "fast_lms: shape of S: (353, 11)\n",
      "(353, 10) (353,)\n",
      "80 0.50612339190702\n",
      "fast_lms: shape of S: (353, 11)\n",
      "(353, 10) (353,)\n",
      "125 0.50612339190702\n",
      "fast_lms: shape of S: (353, 11)\n",
      "(353, 10) (353,)\n",
      "150 0.50612339190702\n",
      "fast_lms: shape of S: (353, 11)\n",
      "(353, 10) (353,)\n",
      "200 0.50612339190702\n",
      "fast_lms: shape of S: (353, 11)\n",
      "(353, 10) (353,)\n",
      "250 0.50612339190702\n",
      "fast_lms: shape of S: (353, 11)\n",
      "(353, 10) (353,)\n",
      "300 0.50612339190702\n"
     ]
    }
   ],
   "source": [
    "from sklearn.model_selection import train_test_split\n",
    "from sklearn.linear_model import LinearRegression\n",
    "from sklearn import datasets\n",
    "from sklearn.metrics import mean_squared_error, r2_score,accuracy_score\n",
    "\n",
    "n,d = 50000,3\n",
    "m,k = 4,15\n",
    "\n",
    "#  Load the diabetes dataset\n",
    "X, y = datasets.load_diabetes(return_X_y=True)\n",
    "print(X.shape,y.shape)\n",
    "A, X_test, b, y_test = train_test_split(X,y,test_size=0.2)\n",
    "\n",
    "reg = LinearRegression().fit(A,b)\n",
    "y_pred = reg.predict(X_test)\n",
    "score_simple = reg.score(X_test,y_test)\n",
    "\n",
    "print('naive score,',score_simple)\n",
    "print('mean square error:', mean_squared_error(y_test,y_pred))\n",
    "print(A.shape,b.shape)\n",
    "\n",
    "print()\n",
    "k  = 100\n",
    "b  = b.reshape(-1,1)\n",
    "\n",
    "# C,w = fast_lms(A,b,m,k) \n",
    "# print(C.shape,w.shape)\n",
    "# reg2 = LinearRegression().fit(C, w)\n",
    "# y_pred2 = reg2.predict(X_test)\n",
    "# score_fast = reg2.score(X_test,y_test)\n",
    "# print('mean square error:', mean_squared_error(y_test,y_pred2))\n",
    "# print(k,score_fast)\n",
    "\n",
    "score_list = []\n",
    "for k in [15,30,40,80,125,150,200,250,300]:\n",
    "    C,w = fast_lms(A,b,m,k)    \n",
    "    reg2 = LinearRegression().fit(C, w)\n",
    "    score_fast = reg2.score(X_test,y_test)\n",
    "    print(C.shape,w.shape)\n",
    "    print(k,score_fast)\n",
    "    \n",
    "#print(score_simple,score_fast)"
   ]
  },
  {
   "cell_type": "code",
   "execution_count": 7,
   "metadata": {},
   "outputs": [
    {
     "name": "stdout",
     "output_type": "stream",
     "text": [
      "[[1. 1. 1.]\n",
      " [1. 1. 1.]\n",
      " [1. 1. 1.]]\n",
      "\n",
      "[[1. 1. 1.]\n",
      " [1. 1. 1.]]\n"
     ]
    }
   ],
   "source": [
    "x = np.ones((3,3))\n",
    "print(x)\n",
    "print()\n",
    "# x = np.insert(x,0,1,axis=0)\n",
    "x = np.delete(x,1,axis=0)\n",
    "print(x)"
   ]
  },
  {
   "cell_type": "code",
   "execution_count": 13,
   "metadata": {},
   "outputs": [],
   "source": [
    "p = np.array([1,2,3,4,5])\n",
    "u = np.ones(5)\n",
    "u[1] = 0\n",
    "u[2] = 0"
   ]
  },
  {
   "cell_type": "code",
   "execution_count": 26,
   "metadata": {},
   "outputs": [
    {
     "name": "stdout",
     "output_type": "stream",
     "text": [
      "(4, 1)\n"
     ]
    },
    {
     "data": {
      "text/plain": [
       "(16,)"
      ]
     },
     "execution_count": 26,
     "metadata": {},
     "output_type": "execute_result"
    }
   ],
   "source": [
    "a = np.array([1,2,3,4])\n",
    "a = a.reshape(4,1)\n",
    "print(a.shape)\n",
    "\n",
    "np.multiply(a,a.transpose()).flatten().shape"
   ]
  },
  {
   "cell_type": "code",
   "execution_count": 57,
   "metadata": {},
   "outputs": [
    {
     "name": "stdout",
     "output_type": "stream",
     "text": [
      "0 [ 4  5  6  7  8  9 10] [0 1 2 3]\n",
      "1 [ 0  1  2  3  8  9 10] [4 5 6 7]\n",
      "2 [0 1 2 3 4 5 6 7] [ 8  9 10]\n"
     ]
    }
   ],
   "source": [
    "# from sklearn.cross_validation import KFold\n",
    "a = np.ones((11,2))\n",
    "kf = KFold(n_splits=3)\n",
    "i = 0\n",
    "for idx,idx2 in kf.split(a):\n",
    "    print(i,idx,idx2)\n",
    "    i += 1"
   ]
  },
  {
   "cell_type": "code",
   "execution_count": 50,
   "metadata": {},
   "outputs": [
    {
     "data": {
      "text/plain": [
       "(9, 2)"
      ]
     },
     "execution_count": 50,
     "metadata": {},
     "output_type": "execute_result"
    }
   ],
   "source": [
    "a = np.ones((3,2))\n",
    "b = np.ones((3,2))\n",
    "c = np.ones((3,2))\n",
    "l = [a,b,c]\n",
    "np.concatenate(l,axis=0).shape"
   ]
  },
  {
   "cell_type": "code",
   "execution_count": 55,
   "metadata": {},
   "outputs": [
    {
     "name": "stdout",
     "output_type": "stream",
     "text": [
      "[[ 1.13523628  1.13588851]\n",
      " [ 1.10296351 -0.04688024]\n",
      " [-0.43765077  2.36839003]\n",
      " [ 1.17466649  0.61323597]\n",
      " [ 1.90996272  0.79974233]]\n",
      "\n",
      "[ 1.13588851 -0.04688024  2.36839003  0.61323597  0.79974233]\n"
     ]
    }
   ],
   "source": [
    "a = np.random.randn(5,2)\n",
    "print(a)\n",
    "print()\n",
    "print(a[:,-1])"
   ]
  },
  {
   "cell_type": "code",
   "execution_count": 99,
   "metadata": {},
   "outputs": [
    {
     "name": "stdout",
     "output_type": "stream",
     "text": [
      "(array([0, 1, 3, 4, 6, 7, 8, 9]),)\n",
      "(8, 1)\n",
      "[0 1 2]\n",
      "[3 4 5]\n",
      "[6 7]\n"
     ]
    }
   ],
   "source": [
    "a = np.random.randn(10)\n",
    "a[2] = 0\n",
    "a[5] = 0\n",
    "i2 = np.nonzero(a)\n",
    "print(i2)\n",
    "# print(i2.shape)\n",
    "i2 = np.array(i2).reshape(-1,1)\n",
    "print(i2.shape)\n",
    "kf = KFold(n_splits=3)\n",
    "for _,idx in kf.split(i2):\n",
    "    print(idx)"
   ]
  },
  {
   "cell_type": "code",
   "execution_count": null,
   "metadata": {},
   "outputs": [],
   "source": []
  }
 ],
 "metadata": {
  "kernelspec": {
   "display_name": "Python 3",
   "language": "python",
   "name": "python3"
  },
  "language_info": {
   "codemirror_mode": {
    "name": "ipython",
    "version": 3
   },
   "file_extension": ".py",
   "mimetype": "text/x-python",
   "name": "python",
   "nbconvert_exporter": "python",
   "pygments_lexer": "ipython3",
   "version": "3.7.4"
  }
 },
 "nbformat": 4,
 "nbformat_minor": 4
}
